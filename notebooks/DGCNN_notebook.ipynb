{
  "cells": [
    {
      "cell_type": "markdown",
      "metadata": {
        "colab_type": "text",
        "id": "view-in-github"
      },
      "source": [
        "<a href=\"https://colab.research.google.com/github/giordamaug/LION15_Experiments/blob/main/LION15SI_DGCNN_Stellargraph.ipynb\" target=\"_parent\"><img src=\"https://colab.research.google.com/assets/colab-badge.svg\" alt=\"Open In Colab\"/></a>"
      ]
    },
    {
      "cell_type": "markdown",
      "metadata": {
        "id": "fxvn0l72j5dc"
      },
      "source": [
        "# DGCNN experiments as embedding method (LION15 SI)\n",
        "In this notebook we implement a Deep Graph Convolutional Neural Network (DGCNN) [1] algorithm according to the colab: [Supervised graph classification with Deep Graph CNN\n",
        "](https://colab.research.google.com/github/stellargraph/stellargraph/blob/master/demos/graph-classification/dgcnn-graph-classification.ipynb).\n",
        "\n",
        "The DGCNN implememntation uses the [StellarGraph](https://www.stellargraph.io/) Library. The DGCNN implementation has been modified in such a way to function as an inductive graph embedding method. To this aim the DGCNN model is fed with input graphs and the output of the last hidden layer is extracted and used as the embedding of the input graph. The graph embedding are then used as input to a SVM with linear kernel for 10-fold cross-validation.\n",
        "\n",
        "In addition, our modified version of the DGCNN accepts has input graphml files by means of the [NetworkX](https://networkx.org/) Library.\n",
        "\n",
        "**References**\n",
        "\n",
        "[1] An End-to-End Deep Learning Architecture for Graph Classification, M. Zhang, Z. Cui, M. Neumann, Y. Chen, AAAI-18. ([link](https://www.aaai.org/ocs/index.php/AAAI/AAAI18/paper/viewPaper/17146))\n",
        "\n",
        "[2] Semi-supervised Classification with Graph Convolutional Networks, T. N. Kipf and M. Welling, ICLR 2017. ([link](https://arxiv.org/abs/1609.02907))"
      ]
    },
    {
      "cell_type": "markdown",
      "metadata": {
        "id": "0c601i7ByycK"
      },
      "source": [
        "## Install Stellargraph\n",
        "The folowing code installs the StellarGraph library and all the other python packages required for execution (TensorFlow, NetworkX, Pandas, )"
      ]
    },
    {
      "cell_type": "code",
      "execution_count": null,
      "metadata": {
        "colab": {
          "base_uri": "https://localhost:8080/"
        },
        "id": "d5FCYwmAymRz",
        "outputId": "11e70e23-ba6e-4ea2-af3a-6b9a4391ddc2"
      },
      "outputs": [
        {
          "name": "stdout",
          "output_type": "stream",
          "text": [
            "\u001b[K     |████████████████████████████████| 435 kB 5.3 MB/s \n",
            "\u001b[K     |████████████████████████████████| 379 kB 30.4 MB/s \n",
            "\u001b[K     |████████████████████████████████| 45 kB 3.4 MB/s \n",
            "\u001b[?25h  Building wheel for mplleaflet (setup.py) ... \u001b[?25l\u001b[?25hdone\n",
            "Found GPU at: /device:GPU:0\n"
          ]
        }
      ],
      "source": [
        "# install StellarGraph if running on Google Colab\n",
        "import warnings\n",
        "warnings.filterwarnings(\"ignore\")\n",
        "\n",
        "import sys\n",
        "if 'google.colab' in sys.modules:\n",
        "  %pip install -q stellargraph[demos]==1.2.1\n",
        "# verify that we're using the correct version of StellarGraph for this notebook\n",
        "import stellargraph as sg\n",
        "try:\n",
        "    sg.utils.validate_notebook_version(\"1.2.1\")\n",
        "except AttributeError:\n",
        "    raise ValueError(\n",
        "        f\"This notebook requires StellarGraph version 1.2.1, but a different version {sg.__version__} is installed.  Please see <https://github.com/stellargraph/stellargraph/issues/1172>.\"\n",
        "    ) from None\n",
        "import tensorflow as tf\n",
        "device_name = tf.test.gpu_device_name()\n",
        "if device_name != '/device:GPU:0':\n",
        "  print('Not Found GPU at: {}'.format(device_name))\n",
        "else:\n",
        "  print('Found GPU at: {}'.format(device_name))\n",
        "from IPython.display import display, HTML\n",
        "from time import time\n",
        "import stellargraph as sg\n",
        "import pandas as pd\n",
        "import numpy as np\n",
        "import networkx as nx\n",
        "import tensorflow as tf\n",
        "from tensorflow import keras\n",
        "from stellargraph.mapper import PaddedGraphGenerator\n",
        "from stellargraph.layer import DeepGraphCNN, GCNSupervisedGraphClassification\n",
        "from stellargraph import StellarGraph\n",
        "from stellargraph import datasets\n",
        "from stellargraph.datasets.dataset_loader import DatasetLoader\n",
        "from tensorflow.keras import Model\n",
        "from tensorflow.keras.optimizers import Adam\n",
        "from tensorflow.keras.layers import Dense, Conv1D, MaxPool1D, Dropout, Flatten\n",
        "from tensorflow.keras.losses import binary_crossentropy, categorical_crossentropy\n",
        "import tensorflow as tf\n",
        "from tensorflow.keras import backend as K\n",
        "from sklearn import model_selection\n",
        "from sklearn import preprocessing\n",
        "from sklearn.model_selection import StratifiedKFold\n",
        "from sklearn.svm import SVC\n",
        "from sklearn.metrics import confusion_matrix,matthews_corrcoef,accuracy_score,precision_score,f1_score, recall_score\n",
        "import tqdm as tq\n",
        "import networkx as nx\n",
        "import operator\n",
        "import random"
      ]
    },
    {
      "cell_type": "markdown",
      "metadata": {
        "id": "kd_JhQETo4KC"
      },
      "source": [
        "## The edge attack routine\n",
        "Currently two strategies have been implemneted for edge removal attacks:\n",
        "1. random selection\n",
        "2. based on betweness centrality of edges\n",
        "\n",
        "The routine accepts as input the removal criteria (`random`, `betweeness`), the amount (in `percentage`) of edges to remove, and a random seed (for reprucibility of experiments)"
      ]
    },
    {
      "cell_type": "code",
      "execution_count": null,
      "metadata": {
        "id": "YeU2B3j9pPVW"
      },
      "outputs": [],
      "source": [
        "def nx_edgeattack(G: nx.Graph, criteria = \"random\", percentage=30, verbose=False, random_state=42):\n",
        "  at = percentage/100.0\n",
        "  #remove_zero_weights(G)\n",
        "  if criteria == \"betweeness\":\n",
        "    score = nx.edge_betweenness(G).items()\n",
        "  elif criteria == \"degree\":\n",
        "    raise Exception(\"Wrong criteria\")\n",
        "  elif criteria == \"random\":\n",
        "    score = list(G.edges())\n",
        "    random.Random(random_state).shuffle(score)\n",
        "    score = list(dict(zip(score,range(len(score)))).items())\n",
        "  else:\n",
        "    raise Exception(\"Wrong criteria\")\n",
        "  edges_to_remove = sorted(score, key=operator.itemgetter(1, 0), reverse=True)[0:int(len(score)*at)]\n",
        "  #assert len(edges_to_remove) > 0, \"Nothing to remove!\"\n",
        "  for e,w in edges_to_remove:\n",
        "    G.remove_edge(e[0], e[1])\n",
        "  if verbose:\n",
        "    print(\"removed\", edges_to_remove)\n",
        "  return 0,len(edges_to_remove)"
      ]
    },
    {
      "cell_type": "markdown",
      "metadata": {
        "id": "LUVsO0Zj_Gtk"
      },
      "source": [
        "## The dataset loading function\n",
        "The dataset of graphs in (TUD formats) is converted into the StellarGraph graph data format. The loading procedure (`load_dataset`) generates two copies of the dataset: the first is the original graph set, while the second is the dataset modified by the attacking routine (edge removal). The third argument is a pandas dataframe containing for each graph name the associated label (used for classification/training)."
      ]
    },
    {
      "cell_type": "code",
      "execution_count": null,
      "metadata": {
        "id": "dlBRx-zg9xia"
      },
      "outputs": [],
      "source": [
        "def load_dataset(dataset, root_dir='.', edge_labels_as_weights=False):\n",
        "\n",
        "    def _load_from_txt_file(filename, names=None, dtype=None, index_increment=None):\n",
        "        df = pd.read_csv(\n",
        "            f\"{root_dir}/{dataset}/{dataset}_{filename}.txt\",\n",
        "            header=None,\n",
        "            index_col=False,\n",
        "            dtype=dtype,\n",
        "            names=names,\n",
        "        )\n",
        "        # We optional increment the index by 1 because indexing, e.g. node IDs, for this dataset starts\n",
        "        # at 1 whereas the Pandas DataFrame implicit index starts at 0 potentially causing confusion selecting\n",
        "        # rows later on.\n",
        "        if index_increment:\n",
        "            df.index = df.index + index_increment\n",
        "        return df\n",
        "\n",
        "    # edge information:\n",
        "    df_graph = _load_from_txt_file(filename=\"A\", names=[\"source\", \"target\"])\n",
        "\n",
        "    if edge_labels_as_weights and os.path.exists(f\"{root_dir}/{dataset}/{dataset}_node_attributes.txt\"):\n",
        "        # there's some edge labels, that can be used as edge weights\n",
        "        df_edge_labels = _load_from_txt_file(\n",
        "            filename=\"edge_labels\", names=[\"weight\"], dtype=int\n",
        "        )\n",
        "        df_graph = pd.concat([df_graph, df_edge_labels], axis=1)\n",
        "\n",
        "    # node information:\n",
        "    df_graph_ids = _load_from_txt_file(\n",
        "        filename=\"graph_indicator\", names=[\"graph_id\"], index_increment=1\n",
        "    )\n",
        "\n",
        "    df_node_labels = _load_from_txt_file(\n",
        "        filename=\"node_labels\", dtype=\"category\", index_increment=1\n",
        "    )\n",
        "    # One-hot encode the node labels because these are used as node features in graph classification\n",
        "    # tasks.\n",
        "    df_node_features = pd.get_dummies(df_node_labels)\n",
        "\n",
        "    if os.path.exists(f\"{root_dir}/{dataset}/{dataset}_node_attributes.txt\"):\n",
        "        # there's some actual node attributes\n",
        "        df_node_attributes = _load_from_txt_file(\n",
        "            filename=\"node_attributes\", dtype=np.float32, index_increment=1\n",
        "        )\n",
        "\n",
        "        df_node_features = pd.concat([df_node_features, df_node_attributes], axis=1)\n",
        "\n",
        "    # graph information:\n",
        "    df_graph_labels = _load_from_txt_file(\n",
        "        filename=\"graph_labels\", dtype=\"category\", names=[\"label\"], index_increment=1\n",
        "    )\n",
        "\n",
        "    # split the data into each of the graphs, based on the nodes in each one\n",
        "    def graph_for_nodes(nodes):\n",
        "        # each graph is disconnected, so the source is enough to identify the graph for an edge\n",
        "        edges = df_graph[df_graph[\"source\"].isin(nodes.index)]\n",
        "        return StellarGraph(nodes, edges)\n",
        "\n",
        "    groups = df_node_features.groupby(df_graph_ids[\"graph_id\"])\n",
        "    graphs = [graph_for_nodes(nodes) for _, nodes in groups]\n",
        "\n",
        "    return graphs, df_graph_labels[\"label\"]"
      ]
    },
    {
      "cell_type": "markdown",
      "metadata": {
        "id": "AiPon8HBzoAm"
      },
      "source": [
        "## Define GCNN (and GNN) model\n",
        "This code snippet is the definition of the DGCNN network. In addition GNN model is also defined as additional comparison method (not used in the experiments). Note how, if it is a binary classification problem (or a multiclass problem), the last layer of the network has only one output node (or as many nodes as the number of classes), whereas its activation function is a sigmoid (or a softmax) function.\n",
        "![picture](https://stellargraph.readthedocs.io/en/stable/_images/dgcnn_architecture.png)"
      ]
    },
    {
      "cell_type": "code",
      "execution_count": null,
      "metadata": {
        "id": "dJP-1qYBzwg0"
      },
      "outputs": [],
      "source": [
        "# The GCNN model\n",
        "def create_dgcnn_model(generator, size, nouts, learnrate=0.0001):\n",
        "      k = 35  # the number of rows for the output tensor\n",
        "      layer_sizes = [size, size, size, nouts]\n",
        "      dgcnn_model = DeepGraphCNN(layer_sizes=layer_sizes,activations=[\"tanh\", \"tanh\", \"tanh\", \"tanh\"],k=k,bias=False,generator=generator)\n",
        "      x_inp, x_out = dgcnn_model.in_out_tensors()\n",
        "      x_out = Conv1D(filters=16, kernel_size=sum(layer_sizes), strides=sum(layer_sizes))(x_out)\n",
        "      x_out = MaxPool1D(pool_size=2)(x_out)\n",
        "      x_out = Conv1D(filters=32, kernel_size=5, strides=1)(x_out)\n",
        "      x_out = Flatten()(x_out)\n",
        "      x_out = Dense(units=size, activation=\"relu\")(x_out)\n",
        "      x_out = embedlayer = Dropout(rate=0.5)(x_out)\n",
        "      if nouts > 2:\n",
        "        predictions = Dense(units=nouts, activation=\"softmax\")(x_out)\n",
        "        model = Model(inputs=x_inp, outputs=predictions)\n",
        "        model.compile(optimizer=Adam(lr=learnrate), loss=categorical_crossentropy, metrics=[\"acc\"],)\n",
        "      else:\n",
        "        predictions = Dense(units=1, activation=\"sigmoid\")(x_out)\n",
        "        model = Model(inputs=x_inp, outputs=predictions)\n",
        "        model.compile(optimizer=Adam(lr=learnrate), loss=binary_crossentropy, metrics=[\"acc\"],)\n",
        "      embedding = Model(inputs=x_inp, outputs=embedlayer)\n",
        "      return model, embedding"
      ]
    },
    {
      "cell_type": "markdown",
      "metadata": {
        "id": "Y0h2vc2iQzxX"
      },
      "source": [
        "## Load the dataset from TUD format\n",
        "\n",
        "This code snippet loads the dataset of graphs (in TUD format) as well as it performs graph attacks (see the above defined `load_dataset` procedure. At the end a summary of graph modifications is printed out.\n",
        "\n"
      ]
    },
    {
      "cell_type": "code",
      "execution_count": null,
      "metadata": {
        "colab": {
          "base_uri": "https://localhost:8080/",
          "height": 1000,
          "referenced_widgets": [
            "0d57baecfb65416d8a919ca8914d196c",
            "e74930e95a664a0fbe7599eb0fbfe52f",
            "8a18fe05d4d24af8a0f3479096cef0ec",
            "83e79a50260f4ec1b42ce4c559755453",
            "ed7eac7f75734e06a42e543a6f238e48",
            "0a6c22b8f86045cd9eb8e66502e68e8e",
            "284f70a1fae5449c91a28d059ea8092c",
            "fd72d069a8264c349e3c9cb2b5a29032",
            "88e4aa5224f24ce59f7c5e3df9869252",
            "e6a3068a00904d74836149a039251f55",
            "f050f1e022744e32a8a49e9a102afafd"
          ]
        },
        "id": "95GW_YFOKzSM",
        "outputId": "c2ccaac4-58bb-45fb-f89b-0db43d965ed8"
      },
      "outputs": [
        {
          "name": "stdout",
          "output_type": "stream",
          "text": [
            "Loading MUTAG graphs with networkx...\n"
          ]
        },
        {
          "data": {
            "application/vnd.jupyter.widget-view+json": {
              "model_id": "0d57baecfb65416d8a919ca8914d196c",
              "version_major": 2,
              "version_minor": 0
            },
            "text/plain": [
              "  0%|          | 0/188 [00:00<?, ?it/s]"
            ]
          },
          "metadata": {},
          "output_type": "display_data"
        },
        {
          "name": "stdout",
          "output_type": "stream",
          "text": [
            "Removed 0 nodes (over 16) and 3 edges (over 18) in last graph!\n",
            "label\n",
            "1        125\n",
            "0         63\n",
            "dtype: int64\n",
            "[[1. 0. 0. 0. 0. 0. 0.]\n",
            " [1. 0. 0. 0. 0. 0. 0.]\n",
            " [1. 0. 0. 0. 0. 0. 0.]\n",
            " [1. 0. 0. 0. 0. 0. 0.]\n",
            " [1. 0. 0. 0. 0. 0. 0.]\n",
            " [1. 0. 0. 0. 0. 0. 0.]\n",
            " [1. 0. 0. 0. 0. 0. 0.]\n",
            " [1. 0. 0. 0. 0. 0. 0.]\n",
            " [1. 0. 0. 0. 0. 0. 0.]\n",
            " [1. 0. 0. 0. 0. 0. 0.]\n",
            " [1. 0. 0. 0. 0. 0. 0.]\n",
            " [1. 0. 0. 0. 0. 0. 0.]\n",
            " [1. 0. 0. 0. 0. 0. 0.]\n",
            " [1. 0. 0. 0. 0. 0. 0.]\n",
            " [0. 1. 0. 0. 0. 0. 0.]\n",
            " [0. 0. 1. 0. 0. 0. 0.]\n",
            " [0. 0. 1. 0. 0. 0. 0.]]\n",
            "StellarGraph: Undirected multigraph\n",
            " Nodes: 17, Edges: 19\n",
            "\n",
            " Node types:\n",
            "  default: [17]\n",
            "    Features: float32 vector, length 7\n",
            "    Edge types: default-default->default\n",
            "\n",
            " Edge types:\n",
            "    default-default->default: [19]\n",
            "        Weights: all 0\n",
            "        Features: none\n",
            "     1\n",
            "1    1\n",
            "2    0\n",
            "3    0\n",
            "4    1\n",
            "5    0\n",
            "..  ..\n",
            "184  1\n",
            "185  0\n",
            "186  0\n",
            "187  1\n",
            "188  0\n",
            "\n",
            "[188 rows x 1 columns]\n",
            "No Classes 1\n",
            "\n"
          ]
        },
        {
          "data": {
            "text/html": [
              "<div>\n",
              "<style scoped>\n",
              "    .dataframe tbody tr th:only-of-type {\n",
              "        vertical-align: middle;\n",
              "    }\n",
              "\n",
              "    .dataframe tbody tr th {\n",
              "        vertical-align: top;\n",
              "    }\n",
              "\n",
              "    .dataframe thead th {\n",
              "        text-align: right;\n",
              "    }\n",
              "</style>\n",
              "<table border=\"1\" class=\"dataframe\">\n",
              "  <thead>\n",
              "    <tr style=\"text-align: right;\">\n",
              "      <th></th>\n",
              "      <th>(Graph) nodes</th>\n",
              "      <th>(Graph) edges</th>\n",
              "      <th>(Attacked Graph) nodes</th>\n",
              "      <th>(Attacked Graph) edges</th>\n",
              "    </tr>\n",
              "  </thead>\n",
              "  <tbody>\n",
              "    <tr>\n",
              "      <th>count</th>\n",
              "      <td>188.0</td>\n",
              "      <td>188.0</td>\n",
              "      <td>188.0</td>\n",
              "      <td>188.0</td>\n",
              "    </tr>\n",
              "    <tr>\n",
              "      <th>mean</th>\n",
              "      <td>17.9</td>\n",
              "      <td>19.8</td>\n",
              "      <td>17.9</td>\n",
              "      <td>16.3</td>\n",
              "    </tr>\n",
              "    <tr>\n",
              "      <th>std</th>\n",
              "      <td>4.6</td>\n",
              "      <td>5.7</td>\n",
              "      <td>4.6</td>\n",
              "      <td>4.5</td>\n",
              "    </tr>\n",
              "    <tr>\n",
              "      <th>min</th>\n",
              "      <td>10.0</td>\n",
              "      <td>10.0</td>\n",
              "      <td>10.0</td>\n",
              "      <td>8.0</td>\n",
              "    </tr>\n",
              "    <tr>\n",
              "      <th>25%</th>\n",
              "      <td>14.0</td>\n",
              "      <td>14.0</td>\n",
              "      <td>14.0</td>\n",
              "      <td>12.0</td>\n",
              "    </tr>\n",
              "    <tr>\n",
              "      <th>50%</th>\n",
              "      <td>17.5</td>\n",
              "      <td>19.0</td>\n",
              "      <td>17.5</td>\n",
              "      <td>16.0</td>\n",
              "    </tr>\n",
              "    <tr>\n",
              "      <th>75%</th>\n",
              "      <td>22.0</td>\n",
              "      <td>25.0</td>\n",
              "      <td>22.0</td>\n",
              "      <td>20.0</td>\n",
              "    </tr>\n",
              "    <tr>\n",
              "      <th>max</th>\n",
              "      <td>28.0</td>\n",
              "      <td>33.0</td>\n",
              "      <td>28.0</td>\n",
              "      <td>27.0</td>\n",
              "    </tr>\n",
              "  </tbody>\n",
              "</table>\n",
              "</div>"
            ],
            "text/plain": [
              "       (Graph) nodes  ...  (Attacked Graph) edges\n",
              "count          188.0  ...                   188.0\n",
              "mean            17.9  ...                    16.3\n",
              "std              4.6  ...                     4.5\n",
              "min             10.0  ...                     8.0\n",
              "25%             14.0  ...                    12.0\n",
              "50%             17.5  ...                    16.0\n",
              "75%             22.0  ...                    20.0\n",
              "max             28.0  ...                    27.0\n",
              "\n",
              "[8 rows x 4 columns]"
            ]
          },
          "execution_count": 40,
          "metadata": {},
          "output_type": "execute_result"
        }
      ],
      "source": [
        "import tqdm as tq\n",
        "dataname = 'MUTAG' #@param ['MUTAG', 'KIDNEY', 'Kidney_9.2', 'PROTEINS', 'JE']\n",
        "criteria = 'random' #@param ['random', 'betweeness']\n",
        "percentage = 50 #@param [0, 5, 10, 20, 30, 40, 50] {type:\"raw\"}\n",
        "ontest = False #@param {type:\"boolean\"}\n",
        "import shutil\n",
        "shutil.unpack_archive(f'../datasets/{dataname}.zip', '../datasets/')\n",
        "graphs, graph_labels = load_dataset(dataname, root_dir='../datasets')\n",
        "graphsadv = []  # no attack if dataset is loaded from TU format\n",
        "for G in tq.tqdm(graphs, desc=\"Copy/Attack\"):\n",
        "  Gadv = G.to_networkx()\n",
        "  ec = Gadv.number_of_edges()\n",
        "  if percentage > 0: \n",
        "    n,e = nx_edgeattack(Gadv, criteria=criteria, percentage=percentage, random_state=42)\n",
        "  graphsadv += [sg.StellarGraph.from_networkx(Gadv,node_type_default=\"default\", edge_type_default=\"default\", node_type_attr=\"type\", edge_type_attr=\"type\", edge_weight_attr=\"weight\", node_features='feature')]\n",
        "if graph_labels.nunique() > 2:\n",
        "  y = pd.get_dummies(graph_labels)\n",
        "else:\n",
        "  y = pd.get_dummies(graph_labels, drop_first=True)\n",
        "print(graphs[0].node_features())\n",
        "print(graphs[0].info())\n",
        "print(y)\n",
        "nclasses = len(y.columns)\n",
        "print(\"No Classes %d\\n\"%nclasses)\n",
        "summary = pd.DataFrame(\n",
        "    [(g.number_of_nodes(), g.number_of_edges(),ga.number_of_nodes(), ga.number_of_edges()) for g,ga in zip(graphs,graphsadv)],\n",
        "    columns=[\"(Graph) nodes\", \"(Graph) edges\", \"(Attacked Graph) nodes\", \"(Attacked Graph) edges\"],\n",
        ")"
      ]
    },
    {
      "cell_type": "code",
      "execution_count": null,
      "metadata": {
        "id": "3gsjORIvs0IE"
      },
      "outputs": [],
      "source": [
        "G = np.array(graphs)\n",
        "from sklearn.model_selection import RepeatedKFold,StratifiedKFold\n",
        "skf = StratifiedKFold(n_splits=10, shuffle=True, random_state=42)\n",
        "for train_index, test_index in tq.tqdm(list(skf.split(graphs,y)), desc=\"fold: \"):\n",
        "  print(graph_labels[test_index+1], pd.DataFrame(data=graph_labels[test_index+1]))"
      ]
    },
    {
      "cell_type": "markdown",
      "metadata": {
        "id": "nAA2ZczgdZKz"
      },
      "source": [
        "# Set/Load model parameters (and save them)\n",
        "\n",
        "We can load a default parameter setting for the model from a file.\n",
        "Otherwise we can experiment with different paramter setting.\n",
        "Once you choose your paramter configuration, you can store it in a file."
      ]
    },
    {
      "cell_type": "markdown",
      "metadata": {
        "id": "2tfkgUX0dcOV"
      },
      "source": [
        "### Load defaults"
      ]
    },
    {
      "cell_type": "code",
      "execution_count": null,
      "metadata": {
        "colab": {
          "base_uri": "https://localhost:8080/"
        },
        "id": "H5ojOm-dde1S",
        "outputId": "006948b6-1014-44f7-9c6c-702d60d29a1b"
      },
      "outputs": [
        {
          "name": "stdout",
          "output_type": "stream",
          "text": [
            "{'layerdim': 32, 'epochs': 100, 'learningrate': 0.0001, 'verbose': False, 'seed': 42}\n"
          ]
        }
      ],
      "source": [
        "import os\n",
        "import json\n",
        "method='DGCNN'\n",
        "confpath = '/content/drive/MyDrive/CDS-GROUP-ROOT/TUDatasets/LION15_results' #@param {type:\"string\"}\n",
        "path = os.path.join(confpath, f'{method}_{dataset}_params.json')\n",
        "if os.path.isfile(path):\n",
        "  params = json.load( open( path, 'r' ) )\n",
        "  print(params)\n",
        "else:\n",
        "  print(\"No default found!\")"
      ]
    },
    {
      "cell_type": "markdown",
      "metadata": {
        "id": "DoDrFtGWdmyK"
      },
      "source": [
        "### ... or tune the parameters"
      ]
    },
    {
      "cell_type": "code",
      "execution_count": null,
      "metadata": {
        "id": "BTvYyLpQdsyo"
      },
      "outputs": [],
      "source": [
        "layerdim = 32 #@param [\"16\", \"32\", \"64\"] {type:\"raw\"}\n",
        "epochs = 100 #@param {type:\"slider\", min:0, max:1000, step:10}\n",
        "learningrate = 0.0001 #@param {type:\"number\"}\n",
        "verbose = False #@param {type:\"boolean\"}\n",
        "seed = 42 #@param {type:\"number\"}\n",
        "save_params = True #@param {type:\"boolean\"}\n",
        "outpath = '/content/drive/MyDrive/CDS-GROUP-ROOT/TUDatasets/LION15_results' #@param {type:\"string\"}\n",
        "\n",
        "params = {'layerdim': layerdim, \n",
        "          'epochs':epochs,\n",
        "          'learningrate':learningrate,\n",
        "          'verbose':verbose, \n",
        "          'seed':seed,\n",
        "          }\n",
        "import json\n",
        "if save_params:\n",
        "  path = os.path.join(outpath, f'{method}_{dataset}_params.json')\n",
        "  json.dump( params, open( path, 'w' ) )"
      ]
    },
    {
      "cell_type": "markdown",
      "metadata": {
        "id": "Z7BN-MFBY0v5"
      },
      "source": [
        "## Validation\n",
        "Thsi is the main part of the experiment. Once data have been loaded and modified (by the attacking routine), we carry on a stratified 10-fold cross-validation of the pipeline consisting in the DGCNN embedding model plus a SVM linear kernel classifier.\n",
        "\n",
        "In each fold a DGCNN model is trained on 90% of the dataset; the so-trained model is used to embed both the training and the testing samples (inductively). Then the embedding arrays are used as training/testing inputs of the SVM classifier. We collect predictions results for all folds, and the mean and standard deviation of several metric are printed out (Accuracy, Precision, F-measure, Recall and Matthews Correlation Coefficients). "
      ]
    },
    {
      "cell_type": "code",
      "execution_count": null,
      "metadata": {
        "colab": {
          "base_uri": "https://localhost:8080/",
          "height": 49,
          "referenced_widgets": [
            "14138adaf2ca4e47a84e02489dd4402e",
            "496897fe0f724774954e5dde2d931be8",
            "4f291ba435a046708cfe175311c30f8a",
            "551e2e0f9cdd4f2696c153980ea3f7c0",
            "6592e42f8f07497fb120fa51b5c2b2d5",
            "773c7dbfc5c847b2ad62c761b5736ab9",
            "c025f96bc6f94d16afd552ca7601e69e",
            "1697511f426f413bb0fb129ce793a927",
            "6f5289ff4b18428d983afe840cb57a5f",
            "8c9e701d105e4a579e72031042621a6a",
            "f9fb49d0fb31436d97759b4d22703718"
          ]
        },
        "id": "gYDhEyIJY4kn",
        "outputId": "b465f7f7-67ef-4931-d322-7f7797e374d9"
      },
      "outputs": [
        {
          "data": {
            "application/vnd.jupyter.widget-view+json": {
              "model_id": "14138adaf2ca4e47a84e02489dd4402e",
              "version_major": 2,
              "version_minor": 0
            },
            "text/plain": [
              "fold:   0%|          | 0/10 [00:00<?, ?it/s]"
            ]
          },
          "metadata": {},
          "output_type": "display_data"
        }
      ],
      "source": [
        "from stellargraph.mapper import PaddedGraphGenerator\n",
        "from stellargraph.layer import DeepGraphCNN, GCNSupervisedGraphClassification\n",
        "from stellargraph import StellarGraph\n",
        "from tensorflow.keras import Model\n",
        "from tensorflow.keras.optimizers import Adam\n",
        "from tensorflow.keras.layers import Dense, Conv1D, MaxPool1D, Dropout, Flatten\n",
        "from tensorflow.keras.losses import binary_crossentropy, categorical_crossentropy\n",
        "import tensorflow as tf\n",
        "from tensorflow.keras import backend as K\n",
        "from sklearn import model_selection\n",
        "from sklearn import preprocessing\n",
        "#@title  { form-width: \"30%\" }\n",
        "import warnings\n",
        "warnings.filterwarnings(\"ignore\")\n",
        "\n",
        "import pandas as pd\n",
        "import numpy as np\n",
        "\n",
        "# Validation\n",
        "from time import time\n",
        "start = time()\n",
        "from sklearn.model_selection import StratifiedKFold\n",
        "from sklearn.svm import SVC\n",
        "from sklearn.metrics import confusion_matrix,matthews_corrcoef,accuracy_score,precision_score,f1_score, recall_score\n",
        "import tqdm.notebook as tq\n",
        "tot_preds = np.array([])\n",
        "tot_targets = np.array([])\n",
        "tot_acc = np.array([])\n",
        "tot_prec = np.array([])\n",
        "tot_F1 = np.array([])\n",
        "tot_recall = np.array([])\n",
        "tot_MCC = np.array([])\n",
        "cv_folds = 10\n",
        "tsize = 1.0 - (1.0 / float(cv_folds))\n",
        "test_metrics = []\n",
        "verbose = 1 if params['verbose'] else 0\n",
        "cv_folds = 10 #@param {type:\"slider\", min:2, max:10, step:1}\n",
        "skf = StratifiedKFold(n_splits=10, shuffle=True, random_state=42)\n",
        "#for i in tq.tqdm(range(cv_folds), desc=\"fold: \"):\n",
        "#  train_graphs, test_graphs = train_test_split(y, train_size=tsize, test_size=None, stratify=y)\n",
        "#  train_graphs = pd.DataFrame(data=train_graphs)\n",
        "#  test_graphs = pd.DataFrame(data=test_graphs)\n",
        "for train_index, test_index in tq.tqdm(list(skf.split(graphs,y)), desc=\"fold: \"):\n",
        "  train_graphs = graph_labels[train_index+1]\n",
        "  test_graphs = graph_labels[test_index+1]\n",
        "  gen = PaddedGraphGenerator(graphs=graphs)\n",
        "  genadv = PaddedGraphGenerator(graphs=graphsadv)\n",
        "  train_gen = gen.flow(list(train_graphs.index - 1),targets=train_graphs.values,batch_size=1,symmetric_normalization=False)\n",
        "  test_gen = genadv.flow(list(test_graphs.index - 1),targets=test_graphs.values,batch_size=1,symmetric_normalization=False)\n",
        "  #model, embedding = create_gnn_model(generator,args.layerdim, nclasses, learnrate=args.learningrate)\n",
        "  model, embedding = create_dgcnn_model(gen, params['layerdim'], nclasses, learnrate=params['learningrate'])\n",
        "  history = model.fit(train_gen, validation_data=test_gen, shuffle=False, epochs=params['epochs'], verbose=params['verbose'])\n",
        "  X_test = embedding.predict(test_gen)\n",
        "  X_train = embedding.predict(train_gen)\n",
        "  if nclasses > 2:\n",
        "  \ty_train = train_graphs.idxmax(axis=1).values\n",
        "  \ty_test = test_graphs.idxmax(axis=1).values\n",
        "  else:\n",
        "  \ty_train = train_graphs.values.ravel()\n",
        "  \ty_test = test_graphs.values.ravel()\n",
        "  y_pred = SVC(kernel='linear').fit(X_train,y_train).predict(X_test)\n",
        "  tot_preds = np.append(tot_preds,y_pred)\n",
        "  tot_targets = np.append(tot_targets,y_test)\n",
        "  tot_acc = np.append(tot_acc, accuracy_score(y_test, y_pred))\n",
        "  tot_prec = np.append(tot_prec, precision_score(y_test, y_pred, average='macro'))\n",
        "  tot_F1 = np.append(tot_F1, f1_score(y_test, y_pred, average='macro'))\n",
        "  tot_recall = np.append(tot_recall, recall_score(y_test, y_pred, average='macro'))\n",
        "  tot_MCC = np.append(tot_MCC, matthews_corrcoef(y_test, y_pred))\n",
        "temp = time() - start\n",
        "hours = temp//3600\n",
        "temp = temp - 3600*hours\n",
        "minutes = temp//60\n",
        "seconds = temp - 60*minutes\n",
        "expired = '%d:%d:%d' %(hours,minutes,seconds)\n",
        "print()\n",
        "print(confusion_matrix(tot_targets, tot_preds))\n",
        "print(\"Acc\\t%.2f\\u00B1%.2f\"%((tot_acc * 100).mean(), (tot_acc * 100).std()))\n",
        "print(\"Prec\\t%.2f\\u00B1%.2f\"%(tot_prec.mean(), tot_prec.std()))\n",
        "print(\"F1\\t%.2f\\u00B1%.2f\"%(tot_F1.mean(), tot_F1.std()))\n",
        "print(\"Recall\\t%.2f\\u00B1%.2f\"%(tot_recall.mean(), tot_recall.std()))\n",
        "print('MCC\\t%.2f\\u00B1%.2f'%(tot_MCC.mean(), tot_MCC.std()))"
      ]
    },
    {
      "cell_type": "markdown",
      "metadata": {
        "id": "uyZJqZoNHX5H"
      },
      "source": [
        "## Visualizing training logs for CV last fold\n",
        "\n",
        "In this code snippet we display the training log for teh last cross-validation fold. It might be useful to find an optimal epoch number for minimal loss)"
      ]
    },
    {
      "cell_type": "code",
      "execution_count": null,
      "metadata": {
        "colab": {
          "base_uri": "https://localhost:8080/",
          "height": 295
        },
        "id": "35-f3UdjHRhN",
        "outputId": "4f84c5b0-4555-4713-bda8-31d92a8c3d04"
      },
      "outputs": [
        {
          "data": {
            "image/png": "[encoded data removed]",
            "text/plain": [
              "<Figure size 432x288 with 1 Axes>"
            ]
          },
          "metadata": {
            "needs_background": "light"
          },
          "output_type": "display_data"
        }
      ],
      "source": [
        "import matplotlib.pyplot as plt\n",
        "plt.plot(history.history['loss'])\n",
        "plt.title('model loss')\n",
        "plt.ylabel('loss')\n",
        "plt.xlabel('epoch')\n",
        "plt.legend(['train', 'val'], loc='upper left')\n",
        "plt.show()"
      ]
    },
    {
      "cell_type": "markdown",
      "metadata": {
        "id": "CkixIlGfWYUT"
      },
      "source": [
        "## Save result in CSV"
      ]
    },
    {
      "cell_type": "code",
      "execution_count": null,
      "metadata": {
        "colab": {
          "base_uri": "https://localhost:8080/",
          "height": 112
        },
        "id": "_HUT5bQdYXf4",
        "outputId": "399cf843-8a1d-49d9-a218-5a22d883be15"
      },
      "outputs": [
        {
          "data": {
            "text/html": [
              "<div>\n",
              "<style scoped>\n",
              "    .dataframe tbody tr th:only-of-type {\n",
              "        vertical-align: middle;\n",
              "    }\n",
              "\n",
              "    .dataframe tbody tr th {\n",
              "        vertical-align: top;\n",
              "    }\n",
              "\n",
              "    .dataframe thead th {\n",
              "        text-align: right;\n",
              "    }\n",
              "</style>\n",
              "<table border=\"1\" class=\"dataframe\">\n",
              "  <thead>\n",
              "    <tr style=\"text-align: right;\">\n",
              "      <th></th>\n",
              "      <th>mode</th>\n",
              "      <th>criteria</th>\n",
              "      <th>% attack</th>\n",
              "      <th>avg edge del</th>\n",
              "      <th>acc</th>\n",
              "      <th>prec</th>\n",
              "      <th>f1</th>\n",
              "      <th>recall</th>\n",
              "      <th>MCC</th>\n",
              "      <th>cm</th>\n",
              "      <th>date</th>\n",
              "      <th>time</th>\n",
              "    </tr>\n",
              "  </thead>\n",
              "  <tbody>\n",
              "    <tr>\n",
              "      <th>0</th>\n",
              "      <td>test</td>\n",
              "      <td>betweeness</td>\n",
              "      <td>0</td>\n",
              "      <td>0</td>\n",
              "      <td>0.83±0.05</td>\n",
              "      <td>0.83±0.07</td>\n",
              "      <td>0.80±0.07</td>\n",
              "      <td>0.80±0.07</td>\n",
              "      <td>0.63±0.12</td>\n",
              "      <td>[[ 45  18], [ 14 111]]</td>\n",
              "      <td>09/28/2021, 10:02:04</td>\n",
              "      <td>0:29:25</td>\n",
              "    </tr>\n",
              "    <tr>\n",
              "      <th>1</th>\n",
              "      <td>test</td>\n",
              "      <td>betweeness</td>\n",
              "      <td>5.0</td>\n",
              "      <td>0.49</td>\n",
              "      <td>0.85±0.04</td>\n",
              "      <td>0.84±0.06</td>\n",
              "      <td>0.82±0.05</td>\n",
              "      <td>0.83±0.07</td>\n",
              "      <td>0.66±0.11</td>\n",
              "      <td>[[ 48  15], [ 14 111]]</td>\n",
              "      <td>09/28/2021, 10:33:58</td>\n",
              "      <td>0:29:24</td>\n",
              "    </tr>\n",
              "  </tbody>\n",
              "</table>\n",
              "</div>"
            ],
            "text/plain": [
              "   mode    criteria  ...                  date     time\n",
              "0  test  betweeness  ...  09/28/2021, 10:02:04  0:29:25\n",
              "1  test  betweeness  ...  09/28/2021, 10:33:58  0:29:24\n",
              "\n",
              "[2 rows x 12 columns]"
            ]
          },
          "execution_count": 37,
          "metadata": {},
          "output_type": "execute_result"
        }
      ],
      "source": [
        "method = 'DGCNN'\n",
        "#@title  { form-width: \"30%\" }\n",
        "outpath = '/content/drive/MyDrive/CDS-GROUP-ROOT/TUDatasets/LION15_results' #@param {type:\"string\"}\n",
        "from datetime import datetime\n",
        "import pandas as pd\n",
        "path = os.path.join(outpath, f'{method}_{dataset}_e{params[\"epochs\"]}_l{params[\"layerdim\"]}.csv')\n",
        "if not os.path.exists(path):\n",
        "  dfres = pd.DataFrame(columns=['mode', 'criteria', '% attack','avg edge del', 'acc','prec','f1','recall','MCC','cm', 'date', 'time'])\n",
        "  dfres.to_csv(path, index=False)\n",
        "dfres = pd.read_csv(path)\n",
        "mode = 'test' if ontest else 'train'\n",
        "dfres = dfres.append({'mode' : mode, 'criteria' : criteria, '% attack': str(percentage), \n",
        "                      'avg edge del' : \"%.2f\"%(float(summary.describe().iat[1,1]) - float(summary.describe().iat[1,3])),\n",
        "                      'acc' : \"%.2f\\u00B1%.2f\"%(tot_acc.mean(), tot_acc.std()), \n",
        "                      'prec' : \"%.2f\\u00B1%.2f\"%(tot_prec.mean(), tot_prec.std()),\n",
        "                      'f1' : \"%.2f\\u00B1%.2f\"%(tot_F1.mean(), tot_F1.std()),\n",
        "                      'recall' : \"%.2f\\u00B1%.2f\"%(tot_recall.mean(), tot_recall.std()),\n",
        "                      'MCC' : \"%.2f\\u00B1%.2f\"%(tot_MCC.mean(), tot_MCC.std()),\n",
        "                      'cm' : f'{confusion_matrix(tot_targets, tot_preds)}'.replace('\\n',''),\n",
        "                      'date': datetime.now().strftime(\"%m/%d/%Y, %H:%M:%S\"),\n",
        "                      'time' : expired}, ignore_index=True)\n",
        "dfres.to_csv(path, index=False)\n",
        "dfres"
      ]
    },
    {
      "cell_type": "markdown",
      "metadata": {
        "id": "8uBdwGr9VehW"
      },
      "source": [
        "# Timing estimates\n",
        "A complete validation cycle takes 13 minutes on Mutag (with 100 epochs)."
      ]
    }
  ],
  "metadata": {
    "accelerator": "GPU",
    "colab": {
      "authorship_tag": "ABX9TyOuGR88Asbl8e4370cZTbpE",
      "collapsed_sections": [],
      "include_colab_link": true,
      "name": "LION15SI - DGCNN Stellargraph.ipynb",
      "provenance": []
    },
    "kernelspec": {
      "display_name": "Python 3",
      "name": "python3"
    },
    "language_info": {
      "name": "python"
    },
    "widgets": {
      "application/vnd.jupyter.widget-state+json": {
        "0a6c22b8f86045cd9eb8e66502e68e8e": {
          "model_module": "@jupyter-widgets/controls",
          "model_module_version": "1.5.0",
          "model_name": "DescriptionStyleModel",
          "state": {
            "_model_module": "@jupyter-widgets/controls",
            "_model_module_version": "1.5.0",
            "_model_name": "DescriptionStyleModel",
            "_view_count": null,
            "_view_module": "@jupyter-widgets/base",
            "_view_module_version": "1.2.0",
            "_view_name": "StyleView",
            "description_width": ""
          }
        },
        "0d57baecfb65416d8a919ca8914d196c": {
          "model_module": "@jupyter-widgets/controls",
          "model_module_version": "1.5.0",
          "model_name": "HBoxModel",
          "state": {
            "_dom_classes": [],
            "_model_module": "@jupyter-widgets/controls",
            "_model_module_version": "1.5.0",
            "_model_name": "HBoxModel",
            "_view_count": null,
            "_view_module": "@jupyter-widgets/controls",
            "_view_module_version": "1.5.0",
            "_view_name": "HBoxView",
            "box_style": "",
            "children": [
              "IPY_MODEL_8a18fe05d4d24af8a0f3479096cef0ec",
              "IPY_MODEL_83e79a50260f4ec1b42ce4c559755453",
              "IPY_MODEL_ed7eac7f75734e06a42e543a6f238e48"
            ],
            "layout": "IPY_MODEL_e74930e95a664a0fbe7599eb0fbfe52f"
          }
        },
        "14138adaf2ca4e47a84e02489dd4402e": {
          "model_module": "@jupyter-widgets/controls",
          "model_module_version": "1.5.0",
          "model_name": "HBoxModel",
          "state": {
            "_dom_classes": [],
            "_model_module": "@jupyter-widgets/controls",
            "_model_module_version": "1.5.0",
            "_model_name": "HBoxModel",
            "_view_count": null,
            "_view_module": "@jupyter-widgets/controls",
            "_view_module_version": "1.5.0",
            "_view_name": "HBoxView",
            "box_style": "",
            "children": [
              "IPY_MODEL_4f291ba435a046708cfe175311c30f8a",
              "IPY_MODEL_551e2e0f9cdd4f2696c153980ea3f7c0",
              "IPY_MODEL_6592e42f8f07497fb120fa51b5c2b2d5"
            ],
            "layout": "IPY_MODEL_496897fe0f724774954e5dde2d931be8"
          }
        },
        "1697511f426f413bb0fb129ce793a927": {
          "model_module": "@jupyter-widgets/controls",
          "model_module_version": "1.5.0",
          "model_name": "ProgressStyleModel",
          "state": {
            "_model_module": "@jupyter-widgets/controls",
            "_model_module_version": "1.5.0",
            "_model_name": "ProgressStyleModel",
            "_view_count": null,
            "_view_module": "@jupyter-widgets/base",
            "_view_module_version": "1.2.0",
            "_view_name": "StyleView",
            "bar_color": null,
            "description_width": ""
          }
        },
        "284f70a1fae5449c91a28d059ea8092c": {
          "model_module": "@jupyter-widgets/base",
          "model_module_version": "1.2.0",
          "model_name": "LayoutModel",
          "state": {
            "_model_module": "@jupyter-widgets/base",
            "_model_module_version": "1.2.0",
            "_model_name": "LayoutModel",
            "_view_count": null,
            "_view_module": "@jupyter-widgets/base",
            "_view_module_version": "1.2.0",
            "_view_name": "LayoutView",
            "align_content": null,
            "align_items": null,
            "align_self": null,
            "border": null,
            "bottom": null,
            "display": null,
            "flex": null,
            "flex_flow": null,
            "grid_area": null,
            "grid_auto_columns": null,
            "grid_auto_flow": null,
            "grid_auto_rows": null,
            "grid_column": null,
            "grid_gap": null,
            "grid_row": null,
            "grid_template_areas": null,
            "grid_template_columns": null,
            "grid_template_rows": null,
            "height": null,
            "justify_content": null,
            "justify_items": null,
            "left": null,
            "margin": null,
            "max_height": null,
            "max_width": null,
            "min_height": null,
            "min_width": null,
            "object_fit": null,
            "object_position": null,
            "order": null,
            "overflow": null,
            "overflow_x": null,
            "overflow_y": null,
            "padding": null,
            "right": null,
            "top": null,
            "visibility": null,
            "width": null
          }
        },
        "496897fe0f724774954e5dde2d931be8": {
          "model_module": "@jupyter-widgets/base",
          "model_module_version": "1.2.0",
          "model_name": "LayoutModel",
          "state": {
            "_model_module": "@jupyter-widgets/base",
            "_model_module_version": "1.2.0",
            "_model_name": "LayoutModel",
            "_view_count": null,
            "_view_module": "@jupyter-widgets/base",
            "_view_module_version": "1.2.0",
            "_view_name": "LayoutView",
            "align_content": null,
            "align_items": null,
            "align_self": null,
            "border": null,
            "bottom": null,
            "display": null,
            "flex": null,
            "flex_flow": null,
            "grid_area": null,
            "grid_auto_columns": null,
            "grid_auto_flow": null,
            "grid_auto_rows": null,
            "grid_column": null,
            "grid_gap": null,
            "grid_row": null,
            "grid_template_areas": null,
            "grid_template_columns": null,
            "grid_template_rows": null,
            "height": null,
            "justify_content": null,
            "justify_items": null,
            "left": null,
            "margin": null,
            "max_height": null,
            "max_width": null,
            "min_height": null,
            "min_width": null,
            "object_fit": null,
            "object_position": null,
            "order": null,
            "overflow": null,
            "overflow_x": null,
            "overflow_y": null,
            "padding": null,
            "right": null,
            "top": null,
            "visibility": null,
            "width": null
          }
        },
        "4f291ba435a046708cfe175311c30f8a": {
          "model_module": "@jupyter-widgets/controls",
          "model_module_version": "1.5.0",
          "model_name": "HTMLModel",
          "state": {
            "_dom_classes": [],
            "_model_module": "@jupyter-widgets/controls",
            "_model_module_version": "1.5.0",
            "_model_name": "HTMLModel",
            "_view_count": null,
            "_view_module": "@jupyter-widgets/controls",
            "_view_module_version": "1.5.0",
            "_view_name": "HTMLView",
            "description": "",
            "description_tooltip": null,
            "layout": "IPY_MODEL_c025f96bc6f94d16afd552ca7601e69e",
            "placeholder": "​",
            "style": "IPY_MODEL_773c7dbfc5c847b2ad62c761b5736ab9",
            "value": "fold:   0%"
          }
        },
        "551e2e0f9cdd4f2696c153980ea3f7c0": {
          "model_module": "@jupyter-widgets/controls",
          "model_module_version": "1.5.0",
          "model_name": "FloatProgressModel",
          "state": {
            "_dom_classes": [],
            "_model_module": "@jupyter-widgets/controls",
            "_model_module_version": "1.5.0",
            "_model_name": "FloatProgressModel",
            "_view_count": null,
            "_view_module": "@jupyter-widgets/controls",
            "_view_module_version": "1.5.0",
            "_view_name": "ProgressView",
            "bar_style": "",
            "description": "",
            "description_tooltip": null,
            "layout": "IPY_MODEL_6f5289ff4b18428d983afe840cb57a5f",
            "max": 10,
            "min": 0,
            "orientation": "horizontal",
            "style": "IPY_MODEL_1697511f426f413bb0fb129ce793a927",
            "value": 0
          }
        },
        "6592e42f8f07497fb120fa51b5c2b2d5": {
          "model_module": "@jupyter-widgets/controls",
          "model_module_version": "1.5.0",
          "model_name": "HTMLModel",
          "state": {
            "_dom_classes": [],
            "_model_module": "@jupyter-widgets/controls",
            "_model_module_version": "1.5.0",
            "_model_name": "HTMLModel",
            "_view_count": null,
            "_view_module": "@jupyter-widgets/controls",
            "_view_module_version": "1.5.0",
            "_view_name": "HTMLView",
            "description": "",
            "description_tooltip": null,
            "layout": "IPY_MODEL_f9fb49d0fb31436d97759b4d22703718",
            "placeholder": "​",
            "style": "IPY_MODEL_8c9e701d105e4a579e72031042621a6a",
            "value": " 0/10 [00:00&lt;?, ?it/s]"
          }
        },
        "6f5289ff4b18428d983afe840cb57a5f": {
          "model_module": "@jupyter-widgets/base",
          "model_module_version": "1.2.0",
          "model_name": "LayoutModel",
          "state": {
            "_model_module": "@jupyter-widgets/base",
            "_model_module_version": "1.2.0",
            "_model_name": "LayoutModel",
            "_view_count": null,
            "_view_module": "@jupyter-widgets/base",
            "_view_module_version": "1.2.0",
            "_view_name": "LayoutView",
            "align_content": null,
            "align_items": null,
            "align_self": null,
            "border": null,
            "bottom": null,
            "display": null,
            "flex": null,
            "flex_flow": null,
            "grid_area": null,
            "grid_auto_columns": null,
            "grid_auto_flow": null,
            "grid_auto_rows": null,
            "grid_column": null,
            "grid_gap": null,
            "grid_row": null,
            "grid_template_areas": null,
            "grid_template_columns": null,
            "grid_template_rows": null,
            "height": null,
            "justify_content": null,
            "justify_items": null,
            "left": null,
            "margin": null,
            "max_height": null,
            "max_width": null,
            "min_height": null,
            "min_width": null,
            "object_fit": null,
            "object_position": null,
            "order": null,
            "overflow": null,
            "overflow_x": null,
            "overflow_y": null,
            "padding": null,
            "right": null,
            "top": null,
            "visibility": null,
            "width": null
          }
        },
        "773c7dbfc5c847b2ad62c761b5736ab9": {
          "model_module": "@jupyter-widgets/controls",
          "model_module_version": "1.5.0",
          "model_name": "DescriptionStyleModel",
          "state": {
            "_model_module": "@jupyter-widgets/controls",
            "_model_module_version": "1.5.0",
            "_model_name": "DescriptionStyleModel",
            "_view_count": null,
            "_view_module": "@jupyter-widgets/base",
            "_view_module_version": "1.2.0",
            "_view_name": "StyleView",
            "description_width": ""
          }
        },
        "83e79a50260f4ec1b42ce4c559755453": {
          "model_module": "@jupyter-widgets/controls",
          "model_module_version": "1.5.0",
          "model_name": "FloatProgressModel",
          "state": {
            "_dom_classes": [],
            "_model_module": "@jupyter-widgets/controls",
            "_model_module_version": "1.5.0",
            "_model_name": "FloatProgressModel",
            "_view_count": null,
            "_view_module": "@jupyter-widgets/controls",
            "_view_module_version": "1.5.0",
            "_view_name": "ProgressView",
            "bar_style": "success",
            "description": "",
            "description_tooltip": null,
            "layout": "IPY_MODEL_88e4aa5224f24ce59f7c5e3df9869252",
            "max": 188,
            "min": 0,
            "orientation": "horizontal",
            "style": "IPY_MODEL_fd72d069a8264c349e3c9cb2b5a29032",
            "value": 188
          }
        },
        "88e4aa5224f24ce59f7c5e3df9869252": {
          "model_module": "@jupyter-widgets/base",
          "model_module_version": "1.2.0",
          "model_name": "LayoutModel",
          "state": {
            "_model_module": "@jupyter-widgets/base",
            "_model_module_version": "1.2.0",
            "_model_name": "LayoutModel",
            "_view_count": null,
            "_view_module": "@jupyter-widgets/base",
            "_view_module_version": "1.2.0",
            "_view_name": "LayoutView",
            "align_content": null,
            "align_items": null,
            "align_self": null,
            "border": null,
            "bottom": null,
            "display": null,
            "flex": null,
            "flex_flow": null,
            "grid_area": null,
            "grid_auto_columns": null,
            "grid_auto_flow": null,
            "grid_auto_rows": null,
            "grid_column": null,
            "grid_gap": null,
            "grid_row": null,
            "grid_template_areas": null,
            "grid_template_columns": null,
            "grid_template_rows": null,
            "height": null,
            "justify_content": null,
            "justify_items": null,
            "left": null,
            "margin": null,
            "max_height": null,
            "max_width": null,
            "min_height": null,
            "min_width": null,
            "object_fit": null,
            "object_position": null,
            "order": null,
            "overflow": null,
            "overflow_x": null,
            "overflow_y": null,
            "padding": null,
            "right": null,
            "top": null,
            "visibility": null,
            "width": null
          }
        },
        "8a18fe05d4d24af8a0f3479096cef0ec": {
          "model_module": "@jupyter-widgets/controls",
          "model_module_version": "1.5.0",
          "model_name": "HTMLModel",
          "state": {
            "_dom_classes": [],
            "_model_module": "@jupyter-widgets/controls",
            "_model_module_version": "1.5.0",
            "_model_name": "HTMLModel",
            "_view_count": null,
            "_view_module": "@jupyter-widgets/controls",
            "_view_module_version": "1.5.0",
            "_view_name": "HTMLView",
            "description": "",
            "description_tooltip": null,
            "layout": "IPY_MODEL_284f70a1fae5449c91a28d059ea8092c",
            "placeholder": "​",
            "style": "IPY_MODEL_0a6c22b8f86045cd9eb8e66502e68e8e",
            "value": "100%"
          }
        },
        "8c9e701d105e4a579e72031042621a6a": {
          "model_module": "@jupyter-widgets/controls",
          "model_module_version": "1.5.0",
          "model_name": "DescriptionStyleModel",
          "state": {
            "_model_module": "@jupyter-widgets/controls",
            "_model_module_version": "1.5.0",
            "_model_name": "DescriptionStyleModel",
            "_view_count": null,
            "_view_module": "@jupyter-widgets/base",
            "_view_module_version": "1.2.0",
            "_view_name": "StyleView",
            "description_width": ""
          }
        },
        "c025f96bc6f94d16afd552ca7601e69e": {
          "model_module": "@jupyter-widgets/base",
          "model_module_version": "1.2.0",
          "model_name": "LayoutModel",
          "state": {
            "_model_module": "@jupyter-widgets/base",
            "_model_module_version": "1.2.0",
            "_model_name": "LayoutModel",
            "_view_count": null,
            "_view_module": "@jupyter-widgets/base",
            "_view_module_version": "1.2.0",
            "_view_name": "LayoutView",
            "align_content": null,
            "align_items": null,
            "align_self": null,
            "border": null,
            "bottom": null,
            "display": null,
            "flex": null,
            "flex_flow": null,
            "grid_area": null,
            "grid_auto_columns": null,
            "grid_auto_flow": null,
            "grid_auto_rows": null,
            "grid_column": null,
            "grid_gap": null,
            "grid_row": null,
            "grid_template_areas": null,
            "grid_template_columns": null,
            "grid_template_rows": null,
            "height": null,
            "justify_content": null,
            "justify_items": null,
            "left": null,
            "margin": null,
            "max_height": null,
            "max_width": null,
            "min_height": null,
            "min_width": null,
            "object_fit": null,
            "object_position": null,
            "order": null,
            "overflow": null,
            "overflow_x": null,
            "overflow_y": null,
            "padding": null,
            "right": null,
            "top": null,
            "visibility": null,
            "width": null
          }
        },
        "e6a3068a00904d74836149a039251f55": {
          "model_module": "@jupyter-widgets/controls",
          "model_module_version": "1.5.0",
          "model_name": "DescriptionStyleModel",
          "state": {
            "_model_module": "@jupyter-widgets/controls",
            "_model_module_version": "1.5.0",
            "_model_name": "DescriptionStyleModel",
            "_view_count": null,
            "_view_module": "@jupyter-widgets/base",
            "_view_module_version": "1.2.0",
            "_view_name": "StyleView",
            "description_width": ""
          }
        },
        "e74930e95a664a0fbe7599eb0fbfe52f": {
          "model_module": "@jupyter-widgets/base",
          "model_module_version": "1.2.0",
          "model_name": "LayoutModel",
          "state": {
            "_model_module": "@jupyter-widgets/base",
            "_model_module_version": "1.2.0",
            "_model_name": "LayoutModel",
            "_view_count": null,
            "_view_module": "@jupyter-widgets/base",
            "_view_module_version": "1.2.0",
            "_view_name": "LayoutView",
            "align_content": null,
            "align_items": null,
            "align_self": null,
            "border": null,
            "bottom": null,
            "display": null,
            "flex": null,
            "flex_flow": null,
            "grid_area": null,
            "grid_auto_columns": null,
            "grid_auto_flow": null,
            "grid_auto_rows": null,
            "grid_column": null,
            "grid_gap": null,
            "grid_row": null,
            "grid_template_areas": null,
            "grid_template_columns": null,
            "grid_template_rows": null,
            "height": null,
            "justify_content": null,
            "justify_items": null,
            "left": null,
            "margin": null,
            "max_height": null,
            "max_width": null,
            "min_height": null,
            "min_width": null,
            "object_fit": null,
            "object_position": null,
            "order": null,
            "overflow": null,
            "overflow_x": null,
            "overflow_y": null,
            "padding": null,
            "right": null,
            "top": null,
            "visibility": null,
            "width": null
          }
        },
        "ed7eac7f75734e06a42e543a6f238e48": {
          "model_module": "@jupyter-widgets/controls",
          "model_module_version": "1.5.0",
          "model_name": "HTMLModel",
          "state": {
            "_dom_classes": [],
            "_model_module": "@jupyter-widgets/controls",
            "_model_module_version": "1.5.0",
            "_model_name": "HTMLModel",
            "_view_count": null,
            "_view_module": "@jupyter-widgets/controls",
            "_view_module_version": "1.5.0",
            "_view_name": "HTMLView",
            "description": "",
            "description_tooltip": null,
            "layout": "IPY_MODEL_f050f1e022744e32a8a49e9a102afafd",
            "placeholder": "​",
            "style": "IPY_MODEL_e6a3068a00904d74836149a039251f55",
            "value": " 188/188 [00:00&lt;00:00, 248.42it/s]"
          }
        },
        "f050f1e022744e32a8a49e9a102afafd": {
          "model_module": "@jupyter-widgets/base",
          "model_module_version": "1.2.0",
          "model_name": "LayoutModel",
          "state": {
            "_model_module": "@jupyter-widgets/base",
            "_model_module_version": "1.2.0",
            "_model_name": "LayoutModel",
            "_view_count": null,
            "_view_module": "@jupyter-widgets/base",
            "_view_module_version": "1.2.0",
            "_view_name": "LayoutView",
            "align_content": null,
            "align_items": null,
            "align_self": null,
            "border": null,
            "bottom": null,
            "display": null,
            "flex": null,
            "flex_flow": null,
            "grid_area": null,
            "grid_auto_columns": null,
            "grid_auto_flow": null,
            "grid_auto_rows": null,
            "grid_column": null,
            "grid_gap": null,
            "grid_row": null,
            "grid_template_areas": null,
            "grid_template_columns": null,
            "grid_template_rows": null,
            "height": null,
            "justify_content": null,
            "justify_items": null,
            "left": null,
            "margin": null,
            "max_height": null,
            "max_width": null,
            "min_height": null,
            "min_width": null,
            "object_fit": null,
            "object_position": null,
            "order": null,
            "overflow": null,
            "overflow_x": null,
            "overflow_y": null,
            "padding": null,
            "right": null,
            "top": null,
            "visibility": null,
            "width": null
          }
        },
        "f9fb49d0fb31436d97759b4d22703718": {
          "model_module": "@jupyter-widgets/base",
          "model_module_version": "1.2.0",
          "model_name": "LayoutModel",
          "state": {
            "_model_module": "@jupyter-widgets/base",
            "_model_module_version": "1.2.0",
            "_model_name": "LayoutModel",
            "_view_count": null,
            "_view_module": "@jupyter-widgets/base",
            "_view_module_version": "1.2.0",
            "_view_name": "LayoutView",
            "align_content": null,
            "align_items": null,
            "align_self": null,
            "border": null,
            "bottom": null,
            "display": null,
            "flex": null,
            "flex_flow": null,
            "grid_area": null,
            "grid_auto_columns": null,
            "grid_auto_flow": null,
            "grid_auto_rows": null,
            "grid_column": null,
            "grid_gap": null,
            "grid_row": null,
            "grid_template_areas": null,
            "grid_template_columns": null,
            "grid_template_rows": null,
            "height": null,
            "justify_content": null,
            "justify_items": null,
            "left": null,
            "margin": null,
            "max_height": null,
            "max_width": null,
            "min_height": null,
            "min_width": null,
            "object_fit": null,
            "object_position": null,
            "order": null,
            "overflow": null,
            "overflow_x": null,
            "overflow_y": null,
            "padding": null,
            "right": null,
            "top": null,
            "visibility": null,
            "width": null
          }
        },
        "fd72d069a8264c349e3c9cb2b5a29032": {
          "model_module": "@jupyter-widgets/controls",
          "model_module_version": "1.5.0",
          "model_name": "ProgressStyleModel",
          "state": {
            "_model_module": "@jupyter-widgets/controls",
            "_model_module_version": "1.5.0",
            "_model_name": "ProgressStyleModel",
            "_view_count": null,
            "_view_module": "@jupyter-widgets/base",
            "_view_module_version": "1.2.0",
            "_view_name": "StyleView",
            "bar_color": null,
            "description_width": ""
          }
        }
      }
    }
  },
  "nbformat": 4,
  "nbformat_minor": 0
}
